{
  "nbformat": 4,
  "nbformat_minor": 0,
  "metadata": {
    "colab": {
      "provenance": [],
      "gpuType": "T4"
    },
    "kernelspec": {
      "name": "python3",
      "display_name": "Python 3"
    },
    "language_info": {
      "name": "python"
    },
    "accelerator": "GPU"
  },
  "cells": [
    {
      "cell_type": "code",
      "source": [
        "!pip install git+https://github.com/andreinechaev/nvcc4jupyter.git"
      ],
      "metadata": {
        "colab": {
          "base_uri": "https://localhost:8080/"
        },
        "id": "4VtdGdFQc7Ml",
        "outputId": "882db298-8e9b-4c0b-c3d1-c7d80b7a894a"
      },
      "execution_count": null,
      "outputs": [
        {
          "output_type": "stream",
          "name": "stdout",
          "text": [
            "Collecting git+https://github.com/andreinechaev/nvcc4jupyter.git\n",
            "  Cloning https://github.com/andreinechaev/nvcc4jupyter.git to /tmp/pip-req-build-o9ct6wyt\n",
            "  Running command git clone --filter=blob:none --quiet https://github.com/andreinechaev/nvcc4jupyter.git /tmp/pip-req-build-o9ct6wyt\n",
            "  Resolved https://github.com/andreinechaev/nvcc4jupyter.git to commit 5741c522547756ac4bb7a16df32106a15efb8a57\n",
            "  Installing build dependencies ... \u001b[?25l\u001b[?25hdone\n",
            "  Getting requirements to build wheel ... \u001b[?25l\u001b[?25hdone\n",
            "  Preparing metadata (pyproject.toml) ... \u001b[?25l\u001b[?25hdone\n",
            "Building wheels for collected packages: nvcc4jupyter\n",
            "  Building wheel for nvcc4jupyter (pyproject.toml) ... \u001b[?25l\u001b[?25hdone\n",
            "  Created wheel for nvcc4jupyter: filename=nvcc4jupyter-1.2.1-py3-none-any.whl size=10741 sha256=1c43b610d84440f376c57bb0b3d20f87e2433fdb6f06eb98d5fd7c81c461a971\n",
            "  Stored in directory: /tmp/pip-ephem-wheel-cache-h0elmoqm/wheels/a8/b9/18/23f8ef71ceb0f63297dd1903aedd067e6243a68ea756d6feea\n",
            "Successfully built nvcc4jupyter\n",
            "Installing collected packages: nvcc4jupyter\n",
            "Successfully installed nvcc4jupyter-1.2.1\n"
          ]
        }
      ]
    },
    {
      "cell_type": "code",
      "source": [
        "!nvcc --version"
      ],
      "metadata": {
        "id": "0hh1WyesdNZu",
        "colab": {
          "base_uri": "https://localhost:8080/"
        },
        "outputId": "cab8713e-ccc9-40d8-d9cf-72da8ad35bc3"
      },
      "execution_count": null,
      "outputs": [
        {
          "output_type": "stream",
          "name": "stdout",
          "text": [
            "nvcc: NVIDIA (R) Cuda compiler driver\n",
            "Copyright (c) 2005-2023 NVIDIA Corporation\n",
            "Built on Tue_Aug_15_22:02:13_PDT_2023\n",
            "Cuda compilation tools, release 12.2, V12.2.140\n",
            "Build cuda_12.2.r12.2/compiler.33191640_0\n"
          ]
        }
      ]
    },
    {
      "cell_type": "code",
      "source": [
        "pip install nvcc4jupyter"
      ],
      "metadata": {
        "colab": {
          "base_uri": "https://localhost:8080/"
        },
        "id": "CgVtVI-1FBTA",
        "outputId": "4afea52f-9bbe-4c20-811f-e916d7000dae"
      },
      "execution_count": null,
      "outputs": [
        {
          "output_type": "stream",
          "name": "stdout",
          "text": [
            "Requirement already satisfied: nvcc4jupyter in /usr/local/lib/python3.10/dist-packages (1.2.1)\n"
          ]
        }
      ]
    },
    {
      "cell_type": "code",
      "source": [
        "%load_ext nvcc4jupyter"
      ],
      "metadata": {
        "colab": {
          "base_uri": "https://localhost:8080/"
        },
        "id": "bXxwwuRqFNNc",
        "outputId": "abc08554-47dd-483a-d60b-ba4b67a637a9"
      },
      "execution_count": null,
      "outputs": [
        {
          "output_type": "stream",
          "name": "stdout",
          "text": [
            "Detected platform \"Colab\". Running its setup...\n",
            "Source files will be saved in \"/tmp/tmphue_6gf2\".\n"
          ]
        }
      ]
    },
    {
      "cell_type": "code",
      "source": [
        "%%cuda\n",
        "#include <stdio.h>\n",
        "\n",
        "#define TILE_WIDTH 10\n",
        "\n",
        "/*matrix multiplication kernels*/\n",
        "\n",
        "//non shared\n",
        "__global__ void MatrixMul( int *Md , int *Nd , int *Pd , const int WIDTH )\n",
        "{\n",
        "\n",
        "           // calculate thread id\n",
        "\n",
        "           unsigned int col = TILE_WIDTH * blockIdx.x + threadIdx.x ;\n",
        "\n",
        "           unsigned int row = TILE_WIDTH*blockIdx.y + threadIdx.y ;\n",
        "\n",
        "           Pd[row*WIDTH + col]=0;\n",
        "\n",
        "         for (int k = 0 ; k<WIDTH ; k++ )\n",
        "         {\n",
        "                  Pd[row*WIDTH + col]+= Md[row * WIDTH + k ] * Nd[ k * WIDTH + col] ;\n",
        "          }\n",
        "\n",
        "}\n",
        "\n",
        "\n",
        "// main routine\n",
        "int main ()\n",
        "{\n",
        "   const int WIDTH = 25 ;      // Change the width to change input size\n",
        "   float naive_gpu_elapsed_time_ms;\n",
        "   int array1_h[WIDTH][WIDTH] ,array2_h[WIDTH][WIDTH],result_array_h[WIDTH][WIDTH];\n",
        "  int *array1_d , *array2_d ,*result_array_d ; // device array\n",
        "  int i , j ;\n",
        "  //input in host array\n",
        " // printf(\"Enter matrix1\\n\");\n",
        "  for ( i = 0 ; i < WIDTH ; i++ )\n",
        "  {\n",
        "     for (j = 0 ; j < WIDTH ; j++ )\n",
        "     {\n",
        "\n",
        "    \t array1_h[i][j]=1;\n",
        "    \t array2_h[i][j]=1;\n",
        "     }\n",
        "  }\n",
        "\n",
        "cudaEvent_t start, stop;\n",
        "\n",
        "cudaEventCreate(&start);\n",
        "\n",
        "cudaEventCreate(&stop);\n",
        "\n",
        "  //create device array cudaMalloc ( (void **)&array_name, sizeofmatrixinbytes) ;\n",
        "\n",
        "  cudaMalloc((void **) &array1_d , WIDTH*WIDTH*sizeof (int) ) ;\n",
        "\n",
        "  cudaMalloc((void **) &array2_d , WIDTH*WIDTH*sizeof (int) ) ;\n",
        "\n",
        "\n",
        "\n",
        "\n",
        "  //copy host array to device array; cudaMemcpy ( dest , source , WIDTH , direction )\n",
        "\n",
        "  cudaMemcpy ( array1_d , array1_h , WIDTH*WIDTH*sizeof (int) , cudaMemcpyHostToDevice ) ;\n",
        "\n",
        "  cudaMemcpy ( array2_d , array2_h , WIDTH*WIDTH*sizeof (int) , cudaMemcpyHostToDevice ) ;\n",
        "\n",
        "\n",
        "\n",
        "  //allocating memory for resultant device array\n",
        "\n",
        "  cudaMalloc((void **) &result_array_d , WIDTH*WIDTH*sizeof (int) ) ;\n",
        "\n",
        "\n",
        "\n",
        "\n",
        "\n",
        "  //calling kernal\n",
        "\n",
        "  dim3 dimGrid ( WIDTH/TILE_WIDTH , WIDTH/TILE_WIDTH ,1 ) ;\n",
        "\n",
        "  dim3 dimBlock( TILE_WIDTH, TILE_WIDTH, 1 ) ;\n",
        "\n",
        "cudaEventRecord(start, 0);\n",
        "\n",
        "  MatrixMul <<<dimGrid,dimBlock>>> ( array1_d , array2_d ,result_array_d , WIDTH) ;\n",
        "\n",
        "cudaEventRecord(stop, 0);\n",
        "\n",
        "  cudaMemcpy(result_array_h , result_array_d , WIDTH*WIDTH*sizeof(int) ,cudaMemcpyDeviceToHost) ;\n",
        "\n",
        "\n",
        "\n",
        "  printf(\"matrix result\\n\");\n",
        "  for ( i = 0 ; i < WIDTH ; i++ )\n",
        "  {\n",
        "      for ( j = 0 ; j < WIDTH ; j++ )\n",
        "     {\n",
        "        printf (\"%d   \",result_array_h[i][j] ) ;\n",
        "     }\n",
        " printf (\"\\n\") ;\n",
        "}\n",
        "   cudaEventElapsedTime(&naive_gpu_elapsed_time_ms, start, stop);\n",
        "   printf(\"Time elapsed on naive GPU matrix multiplication of %dx%d . %dx%d : %f ms.\\n\\n\", WIDTH, WIDTH, WIDTH,WIDTH, naive_gpu_elapsed_time_ms);\n",
        " system(\"pause\") ;\n",
        "}\n",
        "\n"
      ],
      "metadata": {
        "id": "1bMukendcVUR",
        "colab": {
          "base_uri": "https://localhost:8080/"
        },
        "outputId": "2dc4a0ac-a85c-46be-f63d-03fa661205b9"
      },
      "execution_count": null,
      "outputs": [
        {
          "output_type": "stream",
          "name": "stdout",
          "text": [
            "sh: 1: pause: not found\n",
            "matrix result\n",
            "25   25   25   25   25   25   25   25   25   25   25   25   25   25   25   25   25   25   25   25   0   0   0   0   0   \n",
            "25   25   25   25   25   25   25   25   25   25   25   25   25   25   25   25   25   25   25   25   0   0   0   0   0   \n",
            "25   25   25   25   25   25   25   25   25   25   25   25   25   25   25   25   25   25   25   25   0   0   0   0   0   \n",
            "25   25   25   25   25   25   25   25   25   25   25   25   25   25   25   25   25   25   25   25   0   0   0   0   0   \n",
            "25   25   25   25   25   25   25   25   25   25   25   25   25   25   25   25   25   25   25   25   0   0   0   0   0   \n",
            "25   25   25   25   25   25   25   25   25   25   25   25   25   25   25   25   25   25   25   25   0   0   0   0   0   \n",
            "25   25   25   25   25   25   25   25   25   25   25   25   25   25   25   25   25   25   25   25   0   0   0   0   0   \n",
            "25   25   25   25   25   25   25   25   25   25   25   25   25   25   25   25   25   25   25   25   0   0   0   0   0   \n",
            "25   25   25   25   25   25   25   25   25   25   25   25   25   25   25   25   25   25   25   25   0   0   0   0   0   \n",
            "25   25   25   25   25   25   25   25   25   25   25   25   25   25   25   25   25   25   25   25   0   0   0   0   0   \n",
            "25   25   25   25   25   25   25   25   25   25   25   25   25   25   25   25   25   25   25   25   0   0   0   0   0   \n",
            "25   25   25   25   25   25   25   25   25   25   25   25   25   25   25   25   25   25   25   25   0   0   0   0   0   \n",
            "25   25   25   25   25   25   25   25   25   25   25   25   25   25   25   25   25   25   25   25   0   0   0   0   0   \n",
            "25   25   25   25   25   25   25   25   25   25   25   25   25   25   25   25   25   25   25   25   0   0   0   0   0   \n",
            "25   25   25   25   25   25   25   25   25   25   25   25   25   25   25   25   25   25   25   25   0   0   0   0   0   \n",
            "25   25   25   25   25   25   25   25   25   25   25   25   25   25   25   25   25   25   25   25   0   0   0   0   0   \n",
            "25   25   25   25   25   25   25   25   25   25   25   25   25   25   25   25   25   25   25   25   0   0   0   0   0   \n",
            "25   25   25   25   25   25   25   25   25   25   25   25   25   25   25   25   25   25   25   25   0   0   0   0   0   \n",
            "25   25   25   25   25   25   25   25   25   25   25   25   25   25   25   25   25   25   25   25   0   0   0   0   0   \n",
            "25   25   25   25   25   25   25   25   25   25   25   25   25   25   25   25   25   25   25   25   0   0   0   0   0   \n",
            "0   0   0   0   0   0   0   0   0   0   0   0   0   0   0   0   0   0   0   0   0   0   0   0   0   \n",
            "0   0   0   0   0   0   0   0   0   0   0   0   0   0   0   0   0   0   0   0   0   0   0   0   0   \n",
            "0   0   0   0   0   0   0   0   0   0   0   0   0   0   0   0   0   0   0   0   0   0   0   0   0   \n",
            "0   0   0   0   0   0   0   0   0   0   0   0   0   0   0   0   0   0   0   0   0   0   0   0   0   \n",
            "0   0   0   0   0   0   0   0   0   0   0   0   0   0   0   0   0   0   0   0   0   0   0   0   0   \n",
            "Time elapsed on naive GPU matrix multiplication of 25x25 . 25x25 : 0.198240 ms.\n",
            "\n",
            "\n"
          ]
        }
      ]
    }
  ]
}